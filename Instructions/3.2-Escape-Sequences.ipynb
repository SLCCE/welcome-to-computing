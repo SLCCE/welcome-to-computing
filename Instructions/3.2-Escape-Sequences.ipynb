{
 "cells": [
  {
   "cell_type": "markdown",
   "id": "31e6783e",
   "metadata": {},
   "source": [
    "# Complex Printing\n",
    "\n",
    "We've seen that print allows us to output data to the console, but how can we make it more powerful?\n",
    "\n",
    "## Escape Sequences\n",
    "\n",
    "What if I want to print on multiple lines, include special characters, or have quotes in my output?\n",
    "\n",
    "This can be achieved with the usage of something known as an escape sequence, which is a backslash placed in front of the character that tells the computer to do something special with it. Oftentimes, this is ignoring a quote or creating a special spacing pattern. The table below lists some of the most common escape sequences, sometimes referred to as escape characters.\n",
    "\n",
    "| Escape Sequence | Description                | Input                                     | Output                   |\n",
    "| --------------- | -------------------------- | ----------------------------------------- | ------------------------ |\n",
    "| `\\\\`            | Backslash (`\\`)            | `print(\"C:\\\\Users\\\\Name\")`                | `C:\\Users\\Name`          |\n",
    "| `\\'`            | Single quote (`'`)         | `print('It\\'s a pen.')`                   | `It's a pen.`            |\n",
    "| `\\\"`            | Double quote (`\"`)         | `print(\"He said \\\"Hello\\\".\")`             | `He said \"Hello\".`       |\n",
    "| `\\n`            | Newline                    | `print(\"Hello\\nWorld\")`                   | `Hello` <br> `World`     |\n",
    "| `\\t`            | Tab                        | `print(\"Hello\\tWorld\")`                   | `Hello    World`         |\n",
    "| `\\r`            | Carriage return            | `print(\"123\\rABC\")`                       | `ABC` (overwrites `123`) |\n",
    "| `\\b`            | Backspace                  | `print(\"Hello\\bWorld\")`                   | `HelloWorld`             |\n",
    "| `\\N{name}`      | Unicode character by name  | `print(\"\\N{Greek Capital Letter Delta}\")` | `Δ`                      |\n",
    "| `\\uXXXX`        | Unicode character (16-bit) | `print(\"\\u03A9\")`                         | `Ω`                      |\n",
    "| `\\UXXXXXXXX`    | Unicode character (32-bit) | `print(\"\\U0001F600\")`                     | 😀                       |\n",
    "\n",
    "As you can see above, all of this is possible by using an escape sequence. In the next exercise, try to guess what\n",
    "the output of each escape sequence will be.\n"
   ]
  }
 ],
 "metadata": {
  "language_info": {
   "name": "python"
  }
 },
 "nbformat": 4,
 "nbformat_minor": 5
}
