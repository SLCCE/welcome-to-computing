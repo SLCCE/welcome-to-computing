{
 "cells": [
  {
   "cell_type": "markdown",
   "metadata": {},
   "source": [
    "# Try printing this!\n",
    "      /\\\n",
    "     /  \\\n",
    "    /    \\\n",
    "   /      \\\n",
    "  /        \\\n",
    " /          \\\n",
    "/____________\\"
   ]
  },
  {
   "cell_type": "code",
   "execution_count": null,
   "metadata": {
    "vscode": {
     "languageId": "plaintext"
    }
   },
   "outputs": [],
   "source": [
    "# Your code here"
   ]
  }
 ],
 "metadata": {
  "language_info": {
   "name": "python"
  }
 },
 "nbformat": 4,
 "nbformat_minor": 2
}
