{
 "cells": [
  {
   "cell_type": "markdown",
   "metadata": {},
   "source": [
    "# Try printing the following figures!\n",
    "```\n",
    "      /\\\n",
    "     /  \\\n",
    "    /    \\\n",
    "   /      \\\n",
    "  /        \\\n",
    " /          \\\n",
    "/____________\\\n",
    "\n",
    "  ___\n",
    " /   \\\n",
    "/     \\\n",
    "\\     /\n",
    " \\___/\n",
    "```"
   ]
  },
  {
   "cell_type": "code",
   "execution_count": null,
   "metadata": {
    "vscode": {
     "languageId": "plaintext"
    }
   },
   "outputs": [],
   "source": [
    "# Your code here"
   ]
  }
 ],
 "metadata": {
  "language_info": {
   "name": "python"
  }
 },
 "nbformat": 4,
 "nbformat_minor": 2
}
