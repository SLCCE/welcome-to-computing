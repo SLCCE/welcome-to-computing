{
 "cells": [
  {
   "cell_type": "code",
   "execution_count": null,
   "id": "2919010b",
   "metadata": {},
   "outputs": [],
   "source": [
    "# Let's practice printing messages to your friends!\n",
    "\n",
    "# Example\n",
    "# A class example of printing in computer science is the \"hello world\"\n",
    "# message. Below, an example of hello world is written.\n",
    "print(\"Hello world!\")"
   ]
  },
  {
   "cell_type": "code",
   "execution_count": null,
   "id": "28dc5469",
   "metadata": {},
   "outputs": [],
   "source": [
    "# Problem 1\n",
    "# In the space below, write a print statement that says Hello world!\n",
    "# Tips: make sure you have two parenthesis, two quotes, and a message inside the quotes."
   ]
  },
  {
   "cell_type": "code",
   "execution_count": null,
   "id": "89d7762e",
   "metadata": {},
   "outputs": [],
   "source": [
    "# Example 2\n",
    "# Sometimes, we want to print multiple things, or have a custom message.\n",
    "# The code below shows you how you can print out a message with a person's name.\n",
    "name = \"Madison\" #P.S. what type is this variable? The line of code below will check.\n",
    "\n",
    "print(\"The variable name has a type of : \", type(name))\n",
    "\n",
    "print(\"Hi, \", name)"
   ]
  },
  {
   "cell_type": "code",
   "execution_count": null,
   "id": "b210b229",
   "metadata": {},
   "outputs": [],
   "source": [
    "# Problem 2\n",
    "# Create a variable that is your name, or anything else that you want to print,\n",
    "# using the format shown above."
   ]
  },
  {
   "cell_type": "code",
   "execution_count": null,
   "id": "ed16671f",
   "metadata": {},
   "outputs": [],
   "source": [
    "# Example 3\n",
    "# You can print as many things as you want in one print statement-- like the example below.\n",
    "school = \"NC State\"\n",
    "mascot = \"Wolf\"\n",
    "sport = \"football\"\n",
    "students = 40000\n",
    "\n",
    "print(\"The best school ever is the \", school, \" \", mascot, \"and they're really good at \", sport, \n",
    "     \"and they have \", students, \" students\")"
   ]
  },
  {
   "cell_type": "code",
   "execution_count": null,
   "id": "3947b2a1",
   "metadata": {},
   "outputs": [],
   "source": [
    "# In the example above, what happens if you remove the commas? the space between school and mascot? \n",
    "# There's nothing wrong with causing errors in the code; it's how you learn!"
   ]
  },
  {
   "cell_type": "code",
   "execution_count": null,
   "id": "02db9e5b",
   "metadata": {},
   "outputs": [],
   "source": [
    "# Problem 3\n",
    "# Using the example above, build your own sentence with various types!"
   ]
  }
 ],
 "metadata": {
  "language_info": {
   "name": "python"
  }
 },
 "nbformat": 4,
 "nbformat_minor": 5
}
