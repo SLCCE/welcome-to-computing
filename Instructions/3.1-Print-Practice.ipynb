{
 "cells": [
  {
   "cell_type": "markdown",
   "id": "63165f6a",
   "metadata": {},
   "source": [
    "Use this exercise file to practice printing to the console in Python!"
   ]
  },
  {
   "cell_type": "code",
   "execution_count": null,
   "id": "ee3f40cd",
   "metadata": {
    "vscode": {
     "languageId": "plaintext"
    }
   },
   "outputs": [],
   "source": [
    "# Example 1: The following code will print out the school that SLCCE was founded at!\n",
    "print( \"North Carolina State University\" )"
   ]
  },
  {
   "cell_type": "code",
   "execution_count": null,
   "id": "37cbd7d9",
   "metadata": {
    "vscode": {
     "languageId": "plaintext"
    }
   },
   "outputs": [],
   "source": [
    "# Problem 1: Write some code to print out your name"
   ]
  },
  {
   "cell_type": "code",
   "execution_count": null,
   "id": "2afbe718",
   "metadata": {
    "vscode": {
     "languageId": "plaintext"
    }
   },
   "outputs": [],
   "source": [
    "# Problem 2: Write some code to print out your favorite color"
   ]
  },
  {
   "cell_type": "code",
   "execution_count": null,
   "id": "e751d191",
   "metadata": {
    "vscode": {
     "languageId": "plaintext"
    }
   },
   "outputs": [],
   "source": [
    "# Problem 3: Use two print statements to print your name and someone else's"
   ]
  },
  {
   "cell_type": "code",
   "execution_count": null,
   "id": "7f6f9d38",
   "metadata": {
    "vscode": {
     "languageId": "plaintext"
    }
   },
   "outputs": [],
   "source": [
    "'''\n",
    "Question: How could we use one print statements to print multiple lines?\n",
    "For example, how could we print the following: \n",
    "\n",
    "Students\n",
    "Leading\n",
    "Collaborative\n",
    "Computing\n",
    "Education\n",
    "\n",
    "Your Thoughts:\n",
    "\n",
    "\n",
    "Question: What if I wanted to print something with more complex spacing?\n",
    "For example, how could we print the following:\n",
    "\n",
    "Students\n",
    "  Leading\n",
    "    Collaborative\n",
    "      Computing\n",
    "        Education\n",
    "\n",
    "Your Thoughts:\n",
    "\n",
    "\n",
    "Question: We know that we have to put our print statements, in quotes, \n",
    "but what if I wanted to print something my friend said? \n",
    "For example, how could we print the following: \n",
    "\n",
    "Today, my best friend said \"coding is awesome!\"\n",
    "\n",
    "\n",
    "Your Thoughts:\n",
    "'''"
   ]
  }
 ],
 "metadata": {
  "language_info": {
   "name": "python"
  }
 },
 "nbformat": 4,
 "nbformat_minor": 5
}
