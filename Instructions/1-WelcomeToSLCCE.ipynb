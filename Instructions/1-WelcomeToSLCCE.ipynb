{
 "cells": [
  {
   "cell_type": "markdown",
   "id": "e3422153",
   "metadata": {},
   "source": [
    "# Welcome to SLCCE\n",
    "\n",
    "Students Leading Collaborative Computing Education (SLCCE) is a volunteer-based student organization at NC State University which aims to create opportunities for under-resourced and under-supported middle and high school students in North Carolina.\n",
    "\n",
    "## Our Mission\n",
    "\n",
    "Our mission is to encourage high-school students from under-represented backgrounds to see themselves in computer science by providing easy-to-follow, hands-on workshops alongside professional mentorship from our committee members.\n",
    "\n",
    "## Contact\n",
    "\n",
    "Should you have any questions regarding the contents of this workshop, please contact the CSC Committee at <slcce.ncsu.csc@gmail.com>.\n",
    "\n",
    "Thank you for choosing SLCCE. Let's get started on **Workshop 1: Welcome to Computing**!"
   ]
  }
 ],
 "metadata": {
  "language_info": {
   "name": "python"
  }
 },
 "nbformat": 4,
 "nbformat_minor": 5
}
