{
 "cells": [
  {
   "cell_type": "markdown",
   "id": "1faf4a4b",
   "metadata": {},
   "source": [
    "# Compound Printing\n",
    "\n",
    "When we want to print multiple operations with one line, it is sometimes beneficial to use something referred to as **compound printing**.\n",
    "\n",
    "This is a practice where multiple statements are combined into one line, allowing us to perform operations and output data. This ability will be important in our next topic"
   ]
  },
  {
   "cell_type": "markdown",
   "id": "d0231570",
   "metadata": {},
   "source": [
    "## Example 1: Here is a basic example of a compound print statement"
   ]
  },
  {
   "cell_type": "code",
   "execution_count": null,
   "id": "4f40f3f7",
   "metadata": {
    "vscode": {
     "languageId": "plaintext"
    }
   },
   "outputs": [],
   "source": [
    "print(\"The type of 4.5 is \", type(4.5), \".\")"
   ]
  },
  {
   "cell_type": "markdown",
   "id": "9f23956e",
   "metadata": {},
   "source": [
    "## Example 2: Here is a more complex example of a compound print statement"
   ]
  },
  {
   "cell_type": "code",
   "execution_count": null,
   "id": "8f93d1b0",
   "metadata": {
    "vscode": {
     "languageId": "plaintext"
    }
   },
   "outputs": [],
   "source": [
    "print(\"The type of 4.5 is \", type(4.5), \", and the type of 'hello!' is \", type('hello!'), \".\")"
   ]
  }
 ],
 "metadata": {
  "language_info": {
   "name": "python"
  }
 },
 "nbformat": 4,
 "nbformat_minor": 5
}
