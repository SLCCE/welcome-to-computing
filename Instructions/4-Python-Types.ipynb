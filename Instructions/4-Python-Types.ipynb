{
 "cells": [
  {
   "cell_type": "markdown",
   "id": "a1231554",
   "metadata": {},
   "source": [
    "# Python Types\n",
    "\n",
    "The data we use in coding have classifications. These are called types. The three main types we’ll be learning are ints, strings, and floats.\n",
    "\n",
    "A string, or str is a combination of characters. Strings are differentiated by quotes. They can be either single quotes or double quotes.  \n",
    "For example:\n",
    "\n",
    "```py\n",
    "'this is a string'\n",
    "\"this is also a string\"\n",
    "```\n",
    "\n",
    "An int is short for integer, which is a countable number. Ints cannot have decimal places in them.  \n",
    "For example:\n",
    "\n",
    "```py\n",
    "1\n",
    "10\n",
    "45\n",
    "```\n",
    "\n",
    "Lastly, a float is a number, similar to an int. However, floats contain decimal places.  \n",
    "For example:\n",
    "\n",
    "```py\n",
    "1.0\n",
    "3.14\n",
    "5.86325\n",
    "```"
   ]
  },
  {
   "cell_type": "markdown",
   "id": "d30b1574",
   "metadata": {},
   "source": [
    "To check what type a piece of data is, you can use the type function and input your data inside it.  \n",
    "For example:"
   ]
  },
  {
   "cell_type": "code",
   "execution_count": null,
   "id": "8e908788",
   "metadata": {},
   "outputs": [],
   "source": [
    "print(type('hello!'))\n",
    "print(type(4))\n",
    "print(type(8.7))"
   ]
  },
  {
   "cell_type": "markdown",
   "id": "5e39b3f7",
   "metadata": {},
   "source": [
    "Finally, if it’s possible, you can change the type of your data using different type functions. You can use the str(), int(), and float() functions."
   ]
  },
  {
   "cell_type": "code",
   "execution_count": null,
   "id": "32010ab9",
   "metadata": {},
   "outputs": [],
   "source": [
    "print(str(3))\n",
    "print(int(4.0))\n",
    "print(float('5.673'))"
   ]
  }
 ],
 "metadata": {
  "kernelspec": {
   "display_name": "Python 3",
   "language": "python",
   "name": "python3"
  },
  "language_info": {
   "codemirror_mode": {
    "name": "ipython",
    "version": 3
   },
   "file_extension": ".py",
   "mimetype": "text/x-python",
   "name": "python",
   "nbconvert_exporter": "python",
   "pygments_lexer": "ipython3",
   "version": "3.11.4"
  }
 },
 "nbformat": 4,
 "nbformat_minor": 5
}
