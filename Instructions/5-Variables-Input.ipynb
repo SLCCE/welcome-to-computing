{
 "cells": [
  {
   "cell_type": "markdown",
   "id": "20f7bd6e",
   "metadata": {},
   "source": [
    "# Variables\n",
    "\n",
    "A **variable** is like a container that holds a value. You can think of it as a label for something you want to store. For example, you might want to store a number or a word and use it later in your program.\n",
    "\n",
    "Let’s start with a variable that stores a number. In this case, we’re going to store the number 30 in a variable called favNumber.\n",
    "\n",
    "We do this with:"
   ]
  },
  {
   "cell_type": "code",
   "execution_count": null,
   "id": "f4dae7ec",
   "metadata": {
    "vscode": {
     "languageId": "plaintext"
    }
   },
   "outputs": [],
   "source": [
    "favNumber = 30"
   ]
  },
  {
   "cell_type": "markdown",
   "id": "264e5358",
   "metadata": {},
   "source": [
    "Once we’ve stored a value in a variable, we can use the print() function to display it. Let’s print the value of favNumber:\n"
   ]
  },
  {
   "cell_type": "code",
   "execution_count": null,
   "id": "c714e09e",
   "metadata": {
    "vscode": {
     "languageId": "plaintext"
    }
   },
   "outputs": [],
   "source": [
    "print(favNumber)"
   ]
  },
  {
   "cell_type": "markdown",
   "id": "3f618145",
   "metadata": {},
   "source": [
    "We can also ask the user to type in information and store their answer in a variable. To do this, we use the **input()** function.\n",
    "\n",
    "For example, let’s ask the user for their favorite number:"
   ]
  },
  {
   "cell_type": "code",
   "execution_count": null,
   "id": "2725c746",
   "metadata": {
    "vscode": {
     "languageId": "plaintext"
    }
   },
   "outputs": [],
   "source": [
    "# Ask favorite number\n",
    "favNumber = input(\"What is your favorite number? \")\n",
    "\n",
    "# Print message\n",
    "print(favNumber)"
   ]
  },
  {
   "cell_type": "markdown",
   "id": "a4551d87",
   "metadata": {},
   "source": [
    "This shows the message “What is your favorite number?” and stores whatever the user types into the favNumber variable. It will then print that number.\n",
    "\n",
    "Now, let’s ask for the user’s favorite college:"
   ]
  },
  {
   "cell_type": "code",
   "execution_count": null,
   "id": "7d4904b6",
   "metadata": {
    "vscode": {
     "languageId": "plaintext"
    }
   },
   "outputs": [],
   "source": [
    "# Ask for favorite College\n",
    "favCollege = input(\"What is your favorite college or university? \")\n",
    "\n",
    "# Print message\n",
    "print(“Your favorite college is”, favCollege)"
   ]
  },
  {
   "cell_type": "markdown",
   "id": "df5270ad",
   "metadata": {},
   "source": [
    "Let's say the user inputs “NC State”.\n",
    "\n",
    "Just like before, this will ask the question and store the answer (NC State) in the variable favCollege. This time however, we give context to the message. The output will be “Your favorite college is NC State”\n",
    "\n",
    "We can of course combine our questions and print a final response containing both answers and their context."
   ]
  },
  {
   "cell_type": "code",
   "execution_count": null,
   "id": "38336ebd",
   "metadata": {
    "vscode": {
     "languageId": "plaintext"
    }
   },
   "outputs": [],
   "source": [
    "# Ask favorite number\n",
    "favNumber = input(\"What is your favorite number? \")\n",
    "\n",
    "# Ask for favorite College\n",
    "favCollege = input(\"What is your favorite college or university? \")\n",
    "\n",
    "# Print message\n",
    "print(\"My favorite College is\", favCollege, \"and my favorite number is\", favNumber)"
   ]
  },
  {
   "cell_type": "markdown",
   "id": "a6380e70",
   "metadata": {},
   "source": [
    "This gives us a basic program that asks for information and prints it back to the user\\!\n",
    "\n",
    "It's important to note that the input() function returns a string. Consider the Python code below:"
   ]
  },
  {
   "cell_type": "markdown",
   "id": "e1ca55ba",
   "metadata": {},
   "source": [
    "Let's enter **3** as our first number and **2** as the second. We probably want to get 5 from this code. However, here is what we get when we run it:\n"
   ]
  },
  {
   "cell_type": "code",
   "execution_count": null,
   "id": "a3698b38",
   "metadata": {
    "vscode": {
     "languageId": "plaintext"
    }
   },
   "outputs": [],
   "source": [
    "# Get two numbers\n",
    "firstNumber = input(\"Enter first number: \")\n",
    "secondNumber = input(\"Enter second number: \")\n",
    "sum = firstNumber + secondNumber\n",
    "print(\"First number plus second number is \", sum)"
   ]
  },
  {
   "cell_type": "markdown",
   "id": "c825d425",
   "metadata": {},
   "source": [
    "When you add two strings together, the result is the first string, followed by the second. Recall from the previous section that we can convert (or **cast**) the contents of a variable from one type to another. Let's cast firstNumber and secondNumber to an integer, then see what happens:"
   ]
  },
  {
   "cell_type": "code",
   "execution_count": null,
   "id": "e8dcaba8",
   "metadata": {
    "vscode": {
     "languageId": "plaintext"
    }
   },
   "outputs": [],
   "source": [
    "# Get two numbers\n",
    "firstNumber = input(\"Enter first number: \")\n",
    "secondNumber = input(\"Enter second number: \")\n",
    "sum = int(firstNumber) + int(secondNumber)\n",
    "print(\"First number plus second number is \", sum)"
   ]
  },
  {
   "cell_type": "markdown",
   "id": "67d5ef90",
   "metadata": {},
   "source": [
    "When you input *3* and *2*, you should now get the correct answer!"
   ]
  }
 ],
 "metadata": {
  "language_info": {
   "name": "python"
  }
 },
 "nbformat": 4,
 "nbformat_minor": 5
}
