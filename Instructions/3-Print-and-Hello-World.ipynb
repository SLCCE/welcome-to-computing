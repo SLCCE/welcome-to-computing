{
 "cells": [
  {
   "cell_type": "markdown",
   "id": "21432101",
   "metadata": {},
   "source": [
    "# Print and Hello World\n",
    "\n",
    "print() is a function that outputs the variable, string, or other object inside the function."
   ]
  },
  {
   "cell_type": "code",
   "execution_count": null,
   "id": "8ac85663",
   "metadata": {
    "vscode": {
     "languageId": "plaintext"
    }
   },
   "outputs": [],
   "source": [
    "print('Hello World!')"
   ]
  },
  {
   "cell_type": "markdown",
   "id": "b23afea7",
   "metadata": {},
   "source": [
    "A function takes an input in the parentheses and does an action with it. In our case, print() displays “Hello World\\!” in the terminal.\n",
    "\n",
    "Printing “Hello World\\!” is the first thing many programmers write when learning a new language and a classic test to see that their code is running properly.\n",
    "\n",
    "print() can output multiple objects with commas separating them."
   ]
  },
  {
   "cell_type": "code",
   "execution_count": null,
   "id": "cd94044f",
   "metadata": {
    "vscode": {
     "languageId": "plaintext"
    }
   },
   "outputs": [],
   "source": [
    "print(1, \"is the first number\")"
   ]
  },
  {
   "cell_type": "markdown",
   "id": "3dc3b4b2",
   "metadata": {},
   "source": [
    "Commenting is another useful tool in coding. You put \\# and then whatever you want to say."
   ]
  },
  {
   "cell_type": "code",
   "execution_count": null,
   "id": "414ace31",
   "metadata": {
    "vscode": {
     "languageId": "plaintext"
    }
   },
   "outputs": [],
   "source": [
    "#Like this!!!"
   ]
  },
  {
   "cell_type": "markdown",
   "id": "80c0f420",
   "metadata": {},
   "source": [
    "The computer sees the \\# and knows not to read it. This allows you to add notes for other programmers to read when they look at your code or for yourself to remember what your code is doing.\n"
   ]
  }
 ],
 "metadata": {
  "language_info": {
   "name": "python"
  }
 },
 "nbformat": 4,
 "nbformat_minor": 5
}
