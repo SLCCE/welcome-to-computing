{
 "cells": [
  {
   "cell_type": "markdown",
   "metadata": {},
   "source": [
    "Use the following questions to guess what the output of each function will be, and take a moment to familiarize yourself with escape sequences.\n",
    "\n",
    "Use the table below as a reference: \n",
    "\n",
    "| Escape Sequence | Description                   | Input                          | Output         |\n",
    "|----------------|-------------------------------|--------------------------------|---------------|\n",
    "| `\\\\`          | Backslash (`\\`)               | `print(\"C:\\\\Users\\\\Name\")`    | `C:\\Users\\Name` |\n",
    "| `\\'`          | Single quote (`'`)            | `print('It\\'s a pen.')`       | `It's a pen.` |\n",
    "| `\\\"`          | Double quote (`\"`)            | `print(\"He said \\\"Hello\\\".\")` | `He said \"Hello\".` |\n",
    "| `\\n`          | Newline                        | `print(\"Hello\\nWorld\")`       | `Hello` <br> `World` |\n",
    "| `\\t`          | Tab                            | `print(\"Hello\\tWorld\")`       | `Hello    World` |\n",
    "| `\\r`          | Carriage return                | `print(\"123\\rABC\")`           | `ABC` (overwrites `123`) |\n",
    "| `\\b`          | Backspace                      | `print(\"Hello\\bWorld\")`       | `HelloWorld` |\n",
    "| `\\N{name}`    | Unicode character by name     | `print(\"\\N{Greek Capital Letter Delta}\")` | `Δ` |\n",
    "| `\\uXXXX`      | Unicode character (16-bit)    | `print(\"\\u03A9\")`             | `Ω` |\n",
    "| `\\UXXXXXXXX`  | Unicode character (32-bit)    | `print(\"\\U0001F600\")`         | 😀 |"
   ]
  },
  {
   "cell_type": "code",
   "execution_count": null,
   "metadata": {},
   "outputs": [],
   "source": [
    "# Example 1: Guess the output and the escape sequence. Feel free to add any code you want or need to learn here as well. \n",
    "\n",
    "print(\"Hello\\nWorld\")"
   ]
  },
  {
   "cell_type": "code",
   "execution_count": null,
   "metadata": {},
   "outputs": [],
   "source": [
    "# Example 2: Guess the output and the escape sequence. Feel free to add any code you want or need to learn here as well.\n",
    "\n",
    "print(\"Hello\\tWorld\")"
   ]
  },
  {
   "cell_type": "code",
   "execution_count": null,
   "metadata": {},
   "outputs": [],
   "source": [
    "# Example 3: Guess the output and the escape sequence. Feel free to add any code you want or need to learn here as well.\n",
    "\n",
    "print(\"Hello \\\\ World\")"
   ]
  },
  {
   "cell_type": "code",
   "execution_count": null,
   "metadata": {},
   "outputs": [],
   "source": [
    "# Example 4: Guess the output and the escape sequence. Feel free to add any code you want or need to learn here as well.\n",
    "\n",
    "print(\"She said \\\"Hello World\\\"\")"
   ]
  },
  {
   "cell_type": "code",
   "execution_count": null,
   "metadata": {},
   "outputs": [],
   "source": [
    "# Example 5: Guess the output and the escape sequence. Feel free to add any code you want or need to learn here as well.\n",
    "\n",
    "print(\"Hello World 1 \\rHello World 2\")"
   ]
  },
  {
   "cell_type": "code",
   "execution_count": null,
   "metadata": {},
   "outputs": [],
   "source": [
    "# Example 6: Guess the output and the escape sequence. Feel free to add any code you want or need to learn here as well.\n",
    "\n",
    "print(\"Hellox\\b World\")"
   ]
  },
  {
   "cell_type": "code",
   "execution_count": null,
   "metadata": {},
   "outputs": [],
   "source": [
    "# Example 7: Guess the output and the escape sequence. Feel free to add any code you want or need to learn here as well.\n",
    "\n",
    "print( \"Hello World \\U0001F600\")"
   ]
  }
 ],
 "metadata": {
  "kernelspec": {
   "display_name": ".venv",
   "language": "python",
   "name": "python3"
  },
  "language_info": {
   "codemirror_mode": {
    "name": "ipython",
    "version": 3
   },
   "file_extension": ".py",
   "mimetype": "text/x-python",
   "name": "python",
   "nbconvert_exporter": "python",
   "pygments_lexer": "ipython3",
   "version": "3.12.3"
  },
  "orig_nbformat": 4
 },
 "nbformat": 4,
 "nbformat_minor": 2
}
