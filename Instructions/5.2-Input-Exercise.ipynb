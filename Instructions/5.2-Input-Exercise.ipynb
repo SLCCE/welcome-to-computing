{
  "metadata": {
    "kernelspec": {
      "name": "python",
      "display_name": "Python (Pyodide)",
      "language": "python"
    },
    "language_info": {
      "codemirror_mode": {
        "name": "python",
        "version": 3
      },
      "file_extension": ".py",
      "mimetype": "text/x-python",
      "name": "python",
      "nbconvert_exporter": "python",
      "pygments_lexer": "ipython3",
      "version": "3.8"
    }
  },
  "nbformat_minor": 5,
  "nbformat": 4,
  "cells": [
    {
      "id": "c279d0d7-f844-4b12-b766-3538aa8091a9",
      "cell_type": "markdown",
      "source": "Work with a partner to answer the questions below.\nIf you have any questions, please ask for a volunteer!",
      "metadata": {}
    },
    {
      "id": "08b2fd16-585c-4372-b07f-b127ac9be260",
      "cell_type": "code",
      "source": "# Problem 1: Replace the question mark with code to request input from the user.\n\nfavoriteSong = ?\nprint(\"My favorite song is \" + favoriteSong + \".\")",
      "metadata": {
        "trusted": true
      },
      "outputs": [],
      "execution_count": null
    },
    {
      "id": "b23ff5fb-cf8f-40b4-b9fc-c1435461009e",
      "cell_type": "code",
      "source": "# Problem 2: Add any casts necessary to make the code below work without errors.\n\nfavoriteNumber = input(\"What is your favorite number? \")\nfavoriteThing = input(\"What is your favorite thing? \")\nprint(\"My favorite number is \" + favoriteNumber + \" and my favorite thing is \" + favoriteThing + \".\")",
      "metadata": {
        "trusted": true
      },
      "outputs": [],
      "execution_count": null
    },
    {
      "id": "d5164719-8d19-4804-82ba-16a2bc91d1e1",
      "cell_type": "code",
      "source": "# Problem 3: Write some code that asks for a customer's order at a restaurant.\n# Then, write a print statement outputting this information to the user.\n\n# Hint: You'll need to use one variable, one input statement, and one print statement.",
      "metadata": {
        "trusted": true
      },
      "outputs": [],
      "execution_count": null
    },
    {
      "cell_type": "markdown",
      "metadata": {},
      "source": [
      "Now that you've done these exercises, write three problems of your own!\n",
      "\n",
      "Quiz your partner and see if you can solve each other's."
      ]
    },
    {
      "id": "e55464ac-2e76-45f6-8ae0-6ae053c05924",
      "cell_type": "code",
      "source": "# Challenge Problem 1: Use any of the formats shown above to create a challenge problem for your partner!",
      "metadata": {
        "trusted": true
      },
      "outputs": [],
      "execution_count": null
    },
    {
      "id": "39ea33a0-e81a-4aa3-891c-76b1876fb99f",
      "cell_type": "code",
      "source": "# Challenge Problem 2: Use a different format shown above to create a challenge problem for your partner!",
      "metadata": {
        "trusted": true
      },
      "outputs": [],
      "execution_count": null
    }
  ]
}
