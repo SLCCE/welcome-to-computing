{
 "cells": [
  {
   "cell_type": "markdown",
   "metadata": {},
   "source": [
    "Try to use what we just learned to solve the problems below!"
   ]
  },
  {
   "cell_type": "markdown",
   "metadata": {},
   "source": [
    "**Example 1:** Use print statements and escape sequences to produce the following output:\n",
    "\n",
    "Engineering\n",
    "\n",
    "is\n",
    "\n",
    "Awesome"
   ]
  },
  },
   {
    "cell_type": "code",
    "execution_count": null,
    "execution_count": 6,
    "metadata": {},
    "outputs": [],
    "source": [
 @@ -31,9 +31,32 @@
   },
   {
    "cell_type": "code",
    "execution_count": null,
    "execution_count": 1,
    "metadata": {},
    "outputs": [],
    "outputs": [
     {
      "name": "stdout",
      "output_type": "stream",
      "text": [
       "Engineering\n",
       "is\n",
       "Awesome\n",
       "Engineering\n",
       "is\n",
       "Awesome\n"
      ]
     },
     {
      "data": {
       "text/plain": [
        "'\\nWhich one of these solutions do you like the most? Which one do you think is better? Why?\\n\\n\\nYour Thoughts: \\n\\n\\n'"
       ]
      },
      "execution_count": 1,
      "metadata": {},
      "output_type": "execute_result"
     }
    ],
    "source": [
     "# In the example above, we could use two different solutions: \n",
     "\n",
 @@ -70,7 +93,7 @@
   },
   {
    "cell_type": "code",
    "execution_count": null,
    "execution_count": 2,
    "metadata": {},
    "outputs": [],
    "source": [
 @@ -88,7 +111,7 @@
   },
   {
    "cell_type": "code",
    "execution_count": null,
    "execution_count": 3,
    "metadata": {},
    "outputs": [],
    "source": [
 @@ -99,7 +122,26 @@
    "cell_type": "code",
    "execution_count": null,
    "metadata": {},
    "outputs": [],
    "outputs": [
     {
      "name": "stdout",
      "output_type": "stream",
      "text": [
       " Computer Scienceing \n",
       " Computer Science \n"
      ]
     },
     {
      "data": {
       "text/plain": [
        "'\\nWhat happens if the second string is longer than the first? Should anything happen? Write your thoughts, and experiment below!\\n\\n\\nYour Thoughts: \\n'"
       ]
      },
      "execution_count": 4,
      "metadata": {},
      "output_type": "execute_result"
     }
    ],
    "source": [
     "\"\"\"\n",
     "In the example above, you'll notice that if you write \"computer engineering,\" the -ing will be appended to computer science. This is because the carriage return overwrites the exact number of characters of the output before it. \n",
 @@ -110,7 +152,7 @@
     "print( \"Computer Engineering \\r Computer Science\")\n",
     "\n",
     "\n",
     "# However, if we match charcter counts, we get an exact overwrite: \n",
     "# However, if we match character counts, we get an exact overwrite: \n",
     "\n",
     "print( \"Computer Engineer \\r Computer Science\")\n",
     "\n",
 @@ -132,7 +174,7 @@
   },
   {
    "cell_type": "code",
    "execution_count": null,
    "execution_count": 5,
    "metadata": {},
    "outputs": [],
    "source": [
 @@ -142,7 +184,7 @@
  ],
  "metadata": {
   "kernelspec": {
    "display_name": "base",
    "display_name": ".venv",
    "language": "python",
    "name": "python3"
   },
 @@ -156,7 +198,7 @@
    "name": "python",
    "nbconvert_exporter": "python",
    "pygments_lexer": "ipython3",
    "version": "3.11.5"
    "version": "3.12.3"
   },
   "orig_nbformat": 4
  },
