{
 "cells": [
  {
   "cell_type": "markdown",
   "metadata": {},
   "source": [
    "Try to use what we just learned to solve the problems below!"
   ]
  },
  {
   "cell_type": "markdown",
   "metadata": {},
   "source": [
    "**Example 1:** Use print statements and escape sequences to produce the following output:\n",
    "\n",
    "Engineering\n",
    "\n",
    "is\n",
    "\n",
    "Awesome"
   ]
  },
  {
   "cell_type": "code",
   "execution_count": 6,
   "metadata": {},
   "outputs": [],
   "source": [
    "# Your solution here: "
   ]
  },
  {
   "cell_type": "code",
   "execution_count": null,
   "metadata": {},
   "outputs": [
    {
     "name": "stdout",
     "output_type": "stream",
     "text": [
      "Engineering\n",
      "is\n",
      "Awesome\n",
      "Engineering\n",
      "is\n",
      "Awesome\n"
     ]
    },
    {
     "data": {
      "text/plain": [
       "'\\nWhich one of these solutions do you like the most? Which one do you think is better? Why?\\n\\n\\nYour Thoughts: \\n\\n\\n'"
      ]
     },
     "execution_count": 1,
     "metadata": {},
     "output_type": "execute_result"
    }
   ],
   "source": [
    "# In the example above, we could use two different solutions: \n",
    "\n",
    "# Solution A: \n",
    "print( \"Engineering\" )\n",
    "print( \"is\" )\n",
    "print( \"Awesome\" )\n",
    "\n",
    "# Solution B:\n",
    "print( \"Engineering\\nis\\nAwesome\" )\n",
    "\n",
    "#Which one of these solutions do you like the most? Which one do you think is better? Why?\n",
    "#Your Thoughts: "
   ]
  },
  {
   "cell_type": "markdown",
   "metadata": {},
   "source": [
    "**Example 2:** Use print statements and escape sequences to produce the following output:\n",
    "\n",
    "Engineering\n",
    "\n",
    ">>is\n",
    "\n",
    ">>>Awesome\n"
   ]
  },
  {
   "cell_type": "code",
   "execution_count": 2,
   "metadata": {},
   "outputs": [],
   "source": [
    "# Write your solution here:\n",
    "\n",
    "# Hint: you may need to use both \\n and \\t in your solution."
   ]
  },
  {
   "cell_type": "markdown",
   "metadata": {},
   "source": [
    "**Example 3:** Use print statements and escape sequences to write some code that will replace the phrase \"Computer Engineer\" with \"Computer Science\"\n"
   ]
  },
  {
   "cell_type": "code",
   "execution_count": 3,
   "metadata": {},
   "outputs": [],
   "source": [
    "# Write your solution here:"
   ]
  },
  {
   "cell_type": "code",
   "execution_count": null,
   "metadata": {},
   "outputs": [
    {
     "name": "stdout",
     "output_type": "stream",
     "text": [
      " Computer Scienceing \n",
      " Computer Science \n"
     ]
    },
    {
     "data": {
      "text/plain": [
       "'\\nWhat happens if the second string is longer than the first? Should anything happen? Write your thoughts, and experiment below!\\n\\n\\nYour Thoughts: \\n'"
      ]
     },
     "execution_count": 4,
     "metadata": {},
     "output_type": "execute_result"
    }
   ],
   "source": [
    "\"\"\"\n",
    "In the example above, you'll notice that if you write \"computer engineering,\" the -ing will be appended to computer science. This is because the carriage return overwrites the exact number of characters of the output before it. \n",
    "\"\"\"\n",
    "\n",
    "# For example: \n",
    "\n",
    "print( \"Computer Engineering \\r Computer Science\")\n",
    "\n",
    "\n",
    "# However, if we match character counts, we get an exact overwrite: \n",
    "\n",
    "print( \"Computer Engineer \\r Computer Science\")\n",
    "\n",
    "\n",
    "#What happens if the second string is longer than the first? Should anything happen? Write your thoughts, and experiment below!\n",
    "#Your Thoughts: "
   ]
  },
  {
   "cell_type": "markdown",
   "metadata": {},
   "source": [
    "**Challenge Problem:** write some code to print your favorite quote. In your code, you must use at least three escape sequences. Be creative, and let a volunteer know when you're done!"
   ]
  },
  {
   "cell_type": "code",
   "execution_count": 5,
   "metadata": {},
   "outputs": [],
   "source": [
    "# Your solution here:\n"
   ]
  }
 ],
 "metadata": {
  "kernelspec": {
   "display_name": ".venv",
   "language": "python",
   "name": "python3"
  },
  "language_info": {
   "codemirror_mode": {
    "name": "ipython",
    "version": 3
   },
   "file_extension": ".py",
   "mimetype": "text/x-python",
   "name": "python",
   "nbconvert_exporter": "python",
   "pygments_lexer": "ipython3",
   "version": "3.12.3"
  },
  "orig_nbformat": 4
 },
 "nbformat": 4,
 "nbformat_minor": 2
}
