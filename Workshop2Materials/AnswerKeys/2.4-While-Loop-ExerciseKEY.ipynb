{
 "cells": [
  {
   "cell_type": "code",
   "execution_count": null,
   "metadata": {},
   "outputs": [
    {
     "name": "stdout",
     "output_type": "stream",
     "text": [
      "2500\n"
     ]
    }
   ],
   "source": [
    "# sum of odd numbers from 1 to 100\n",
    "total = 0\n",
    "val = 1\n",
    "while val < 100:\n",
    "    total += val\n",
    "    val += 2\n",
    "print(total)"
   ]
  },
  {
   "cell_type": "markdown",
   "metadata": {},
   "source": [
    "Alternatively, increasing by 1 paired with the MOD (%) operator"
   ]
  },
  {
   "cell_type": "code",
   "execution_count": null,
   "metadata": {},
   "outputs": [
    {
     "name": "stdout",
     "output_type": "stream",
     "text": [
      "2500\n"
     ]
    }
   ],
   "source": [
    "# sum of odd numbers from 1 to 100\n",
    "total = 0\n",
    "val = 1\n",
    "while val < 100:\n",
    "    if val % 2 == 1:\n",
    "        total += val\n",
    "    val += 1\n",
    "print(total)"
   ]
  },
  {
   "cell_type": "markdown",
   "metadata": {},
   "source": [
    "The pattern: the sum of the first n odd integers is equal to n squared. \\\n",
    "Ex. 1 + 3 = 4 = 2^2, \\\n",
    "1 + 3 + 5... + 99 = 2500 = 50^2"
   ]
  }
 ],
 "metadata": {
  "kernelspec": {
   "display_name": "Python 3",
   "language": "python",
   "name": "python3"
  },
  "language_info": {
   "codemirror_mode": {
    "name": "ipython",
    "version": 3
   },
   "file_extension": ".py",
   "mimetype": "text/x-python",
   "name": "python",
   "nbconvert_exporter": "python",
   "pygments_lexer": "ipython3",
   "version": "3.11.4"
  }
 },
 "nbformat": 4,
 "nbformat_minor": 2
}
