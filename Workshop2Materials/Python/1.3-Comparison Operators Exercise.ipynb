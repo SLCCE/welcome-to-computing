{
 "cells": [
  {
   "cell_type": "markdown",
   "metadata": {},
   "source": [
    "# Guess the Result!\n",
    "\n",
    "*You are given an expression with comparison operators. Your task is to put True or False into the empty answer string as your guess and then run the code to see if you are correct*"
   ]
  },
  {
   "cell_type": "code",
   "execution_count": null,
   "metadata": {},
   "outputs": [
    {
     "name": "stdout",
     "output_type": "stream",
     "text": [
      "True\n",
      "True\n"
     ]
    }
   ],
   "source": [
    "#Replace the empty string with True or False\n",
    "print(10 > 1)\n",
    "answer = \"\"\n",
    "print(answer)\n",
    "\n",
    "#If the two print statements match, you are correct!"
   ]
  },
  {
   "cell_type": "code",
   "execution_count": null,
   "metadata": {},
   "outputs": [],
   "source": [
    "#Replace the empty string with True or False\n",
    "print(10 > 11)\n",
    "answer = \"\"\n",
    "print(answer)\n",
    "\n",
    "#If the two print statements match, you are correct!"
   ]
  },
  {
   "cell_type": "code",
   "execution_count": null,
   "metadata": {},
   "outputs": [],
   "source": [
    "#Replace the empty string with True or False\n",
    "print(6 > 7)\n",
    "answer = \"\"\n",
    "print(answer)\n",
    "\n",
    "#If the two print statements match, you are correct!"
   ]
  },
  {
   "cell_type": "code",
   "execution_count": null,
   "metadata": {},
   "outputs": [],
   "source": [
    "#Replace the empty string with True or False\n",
    "print(5 < 22)\n",
    "answer = \"\"\n",
    "print(answer)\n",
    "\n",
    "#If the two print statements match, you are correct!"
   ]
  },
  {
   "cell_type": "code",
   "execution_count": null,
   "metadata": {},
   "outputs": [],
   "source": [
    "#Replace the empty string with True or False\n",
    "print(9 < 3)\n",
    "answer = \"\"\n",
    "print(answer)\n",
    "\n",
    "#If the two print statements match, you are correct!"
   ]
  },
  {
   "cell_type": "code",
   "execution_count": null,
   "metadata": {},
   "outputs": [],
   "source": [
    "#Replace the empty string with True or False\n",
    "print(5 <= 5)\n",
    "answer = \"\"\n",
    "print(answer)\n",
    "\n",
    "#If the two print statements match, you are correct!"
   ]
  },
  {
   "cell_type": "code",
   "execution_count": null,
   "metadata": {},
   "outputs": [],
   "source": [
    "#Replace the empty string with True or False\n",
    "print(123 <= 124)\n",
    "answer = \"\"\n",
    "print(answer)\n",
    "\n",
    "#If the two print statements match, you are correct!"
   ]
  },
  {
   "cell_type": "code",
   "execution_count": null,
   "metadata": {},
   "outputs": [],
   "source": [
    "#Replace the empty string with True or False\n",
    "print(90 >= 5)\n",
    "answer = \"\"\n",
    "print(answer)\n",
    "\n",
    "#If the two print statements match, you are correct!"
   ]
  },
  {
   "cell_type": "code",
   "execution_count": null,
   "metadata": {},
   "outputs": [],
   "source": [
    "#Replace the empty string with True or False\n",
    "print(89 >= 89)\n",
    "answer = \"\"\n",
    "print(answer)\n",
    "\n",
    "#If the two print statements match, you are correct!"
   ]
  },
  {
   "cell_type": "code",
   "execution_count": null,
   "metadata": {},
   "outputs": [],
   "source": [
    "#Replace the empty string with True or False\n",
    "print(34 == 34)\n",
    "answer = \"\"\n",
    "print(answer)\n",
    "\n",
    "#If the two print statements match, you are correct!"
   ]
  },
  {
   "cell_type": "code",
   "execution_count": null,
   "metadata": {},
   "outputs": [],
   "source": [
    "#Replace the empty string with True or False\n",
    "print(67 == 66)\n",
    "answer = \"\"\n",
    "print(answer)\n",
    "\n",
    "#If the two print statements match, you are correct!"
   ]
  },
  {
   "cell_type": "code",
   "execution_count": null,
   "metadata": {},
   "outputs": [],
   "source": [
    "#Replace the empty string with True or False\n",
    "print(65 != 90)\n",
    "answer = \"\"\n",
    "print(answer)\n",
    "\n",
    "#If the two print statements match, you are correct!"
   ]
  },
  {
   "cell_type": "code",
   "execution_count": null,
   "metadata": {},
   "outputs": [],
   "source": [
    "#Replace the empty string with True or False\n",
    "print(78 != 78)\n",
    "answer = \"\"\n",
    "print(answer)\n",
    "\n",
    "#If the two print statements match, you are correct!"
   ]
  },
  {
   "cell_type": "markdown",
   "metadata": {},
   "source": [
    "*Now we will do the same exercise with multiple comparison expressions*"
   ]
  },
  {
   "cell_type": "code",
   "execution_count": null,
   "metadata": {},
   "outputs": [],
   "source": [
    "#Replace the empty string with True or False\n",
    "print(78 == 78 and 9 < 10)\n",
    "answer = \"\"\n",
    "print(answer)\n",
    "\n",
    "#If the two print statements match, you are correct!"
   ]
  },
  {
   "cell_type": "code",
   "execution_count": null,
   "metadata": {},
   "outputs": [],
   "source": [
    "#Replace the empty string with True or False\n",
    "print(78 != 79 and 111 < 10)\n",
    "answer = \"\"\n",
    "print(answer)\n",
    "\n",
    "#If the two print statements match, you are correct!"
   ]
  },
  {
   "cell_type": "code",
   "execution_count": null,
   "metadata": {},
   "outputs": [],
   "source": [
    "#Replace the empty string with True or False\n",
    "print(90 > 9 or 10 < 100)\n",
    "answer = \"\"\n",
    "print(answer)\n",
    "\n",
    "#If the two print statements match, you are correct!"
   ]
  },
  {
   "cell_type": "code",
   "execution_count": null,
   "metadata": {},
   "outputs": [],
   "source": [
    "#Replace the empty string with True or False\n",
    "print(56 <= 89 or 97 >= 99)\n",
    "answer = \"\"\n",
    "print(answer)\n",
    "\n",
    "#If the two print statements match, you are correct!"
   ]
  },
  {
   "cell_type": "code",
   "execution_count": null,
   "metadata": {},
   "outputs": [],
   "source": [
    "#Replace the empty string with True or False\n",
    "print(56 <= 89 or 101 >= 99)\n",
    "answer = \"\"\n",
    "print(answer)\n",
    "\n",
    "#If the two print statements match, you are correct!"
   ]
  },
  {
   "cell_type": "code",
   "execution_count": null,
   "metadata": {},
   "outputs": [],
   "source": [
    "#Replace the empty string with True or False\n",
    "print(not 90 == 90)\n",
    "answer = \"\"\n",
    "print(answer)\n",
    "\n",
    "#If the two print statements match, you are correct!"
   ]
  },
  {
   "cell_type": "code",
   "execution_count": null,
   "metadata": {},
   "outputs": [],
   "source": [
    "#Replace the empty string with True or False\n",
    "print(not 3 != 3)\n",
    "answer = \"\"\n",
    "print(answer)\n",
    "\n",
    "#If the two print statements match, you are correct!"
   ]
  },
  {
   "cell_type": "code",
   "execution_count": null,
   "metadata": {},
   "outputs": [],
   "source": [
    "#Replace the empty string with True or False\n",
    "print(not 4 > 3)\n",
    "answer = \"\"\n",
    "print(answer)\n",
    "\n",
    "#If the two print statements match, you are correct!"
   ]
  },
  {
   "cell_type": "code",
   "execution_count": null,
   "metadata": {},
   "outputs": [],
   "source": [
    "#Replace the empty string with True or False\n",
    "print(not 5 < 0)\n",
    "answer = \"\"\n",
    "print(answer)\n",
    "\n",
    "#If the two print statements match, you are correct!"
   ]
  }
 ],
 "metadata": {
  "kernelspec": {
   "display_name": "Python 3",
   "language": "python",
   "name": "python3"
  },
  "language_info": {
   "codemirror_mode": {
    "name": "ipython",
    "version": 3
   },
   "file_extension": ".py",
   "mimetype": "text/x-python",
   "name": "python",
   "nbconvert_exporter": "python",
   "pygments_lexer": "ipython3",
   "version": "3.12.1"
  }
 },
 "nbformat": 4,
 "nbformat_minor": 2
}
