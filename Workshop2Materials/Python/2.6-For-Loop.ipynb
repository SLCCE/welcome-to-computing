{
 "cells": [
  {
   "cell_type": "markdown",
   "metadata": {},
   "source": [
    "# For Loops!"
   ]
  },
  {
   "cell_type": "markdown",
   "metadata": {},
   "source": [
    "For loops iterable through an iterable\n",
    "\n",
    "format: for [variable-name] in [iterable] \\\n",
    "&nbsp;&nbsp;&nbsp;&nbsp;do something\n",
    "\n",
    "for each iteration, we have access to [variable-name], which holds the iterable value we're on"
   ]
  },
  {
   "cell_type": "markdown",
   "metadata": {},
   "source": [
    "## Some examples of iterables\n",
    "* range (a range of values)\n",
    "* a list\n",
    "* a dictionary's keys\n",
    "* a set\n",
    "* in short, anything made up of one or more values"
   ]
  },
  {
   "cell_type": "markdown",
   "metadata": {},
   "source": [
    "## Range"
   ]
  },
  {
   "cell_type": "markdown",
   "metadata": {},
   "source": [
    "range() creates a group of integer values \\\n",
    "for example, range(10) represents (0, 1, 2, 3, 4, 5, 6, 7, 8, 9)"
   ]
  },
  {
   "cell_type": "code",
   "execution_count": 6,
   "metadata": {},
   "outputs": [
    {
     "name": "stdout",
     "output_type": "stream",
     "text": [
      "0\n",
      "1\n",
      "2\n",
      "3\n",
      "4\n",
      "5\n",
      "6\n",
      "7\n",
      "8\n",
      "9\n"
     ]
    }
   ],
   "source": [
    "for i in range(10):\n",
    "    # i = 0, then 1, then 2, then 3... 9\n",
    "    print(i)\n",
    "# here, i is the variable name and is how we access the range value"
   ]
  },
  {
   "cell_type": "markdown",
   "metadata": {},
   "source": [
    "range can be called in the following ways:\n",
    "* range(stop)\n",
    "    * default parameters: start = 0, step = 1\n",
    "* range(start, stop)\n",
    "    * default parameter: step = 1\n",
    "* range(start, stop, step)\n",
    "\n",
    "For the first two, if start or step are not specified, they will be set to their default values. \\\n",
    "***Something important to note is that the start value is included and the stop value is excluded.***"
   ]
  },
  {
   "cell_type": "markdown",
   "metadata": {},
   "source": [
    "examples:\n",
    "* 0 to 100: \n",
    "    * range(100) \n",
    "    * range(0, 101) \n",
    "    * range(0, 100, 1)\n",
    "* 1 to 99: \n",
    "    * range(1, 100) \n",
    "    * range(1, 100, 1)\n",
    "\n",
    "\n",
    "note: for 1-99 we can't use range(stop) because the default start value is 0"
   ]
  },
  {
   "cell_type": "markdown",
   "metadata": {},
   "source": [
    "### The step parameter\n"
   ]
  },
  {
   "cell_type": "markdown",
   "metadata": {},
   "source": [
    "we can use the step parameter to specify how big of a jump\n",
    "\n",
    "for example, if we want multiples of 3 to 100, \\\n",
    "our first multiple is 3 and we want every 3 numbers afterwards \\\n",
    "hence, range(3, 101, 3)"
   ]
  },
  {
   "cell_type": "code",
   "execution_count": 17,
   "metadata": {},
   "outputs": [
    {
     "name": "stdout",
     "output_type": "stream",
     "text": [
      "3 6 9 12 15 18 21 24 27 30 33 36 39 42 45 48 51 54 57 60 63 66 69 72 75 78 81 84 87 90 93 96 99 "
     ]
    }
   ],
   "source": [
    "for i in range(3, 101, 3):\n",
    "    # to save space (33 lines would take up a lot), let's use one of print's builtin parameters: end\n",
    "    # default value for end is \"\\n\", also known as the newline character\n",
    "    # here we're replacing it with the empty string (end the print with nothing)\n",
    "    print(str(i) + \" \", end=\"\")"
   ]
  },
  {
   "cell_type": "markdown",
   "metadata": {},
   "source": [
    "## Some more examples"
   ]
  },
  {
   "cell_type": "code",
   "execution_count": 11,
   "metadata": {},
   "outputs": [
    {
     "name": "stdout",
     "output_type": "stream",
     "text": [
      "5050\n"
     ]
    }
   ],
   "source": [
    "# sum of the first 100 numbers\n",
    "total = 0\n",
    "for i in range(101):\n",
    "    total += i\n",
    "print(total)"
   ]
  },
  {
   "cell_type": "code",
   "execution_count": 10,
   "metadata": {},
   "outputs": [
    {
     "name": "stdout",
     "output_type": "stream",
     "text": [
      "-5050\n"
     ]
    }
   ],
   "source": [
    "# sum of first 100 negative numbers\n",
    "total2 = 0\n",
    "for i in range(-1, -101, -1):\n",
    "    total2 += i\n",
    "print(total2)"
   ]
  },
  {
   "cell_type": "code",
   "execution_count": 13,
   "metadata": {},
   "outputs": [
    {
     "name": "stdout",
     "output_type": "stream",
     "text": [
      "2500\n"
     ]
    }
   ],
   "source": [
    "# sum of even numbers up to 100:\n",
    "total3 = 0\n",
    "for i in range(1, 101, 2):\n",
    "    total3 += i\n",
    "print(total3)"
   ]
  }
 ],
 "metadata": {
  "kernelspec": {
   "display_name": "Python 3",
   "language": "python",
   "name": "python3"
  },
  "language_info": {
   "codemirror_mode": {
    "name": "ipython",
    "version": 3
   },
   "file_extension": ".py",
   "mimetype": "text/x-python",
   "name": "python",
   "nbconvert_exporter": "python",
   "pygments_lexer": "ipython3",
   "version": "3.11.4"
  }
 },
 "nbformat": 4,
 "nbformat_minor": 2
}
