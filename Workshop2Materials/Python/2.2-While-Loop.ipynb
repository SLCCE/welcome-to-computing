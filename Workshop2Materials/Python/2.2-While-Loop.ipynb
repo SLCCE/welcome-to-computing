{
 "cells": [
  {
   "cell_type": "markdown",
   "metadata": {},
   "source": [
    "# While Loops!\n",
    "\n",
    "While loops run while their condition is true\n",
    "* this condition is checked:\n",
    "    * the first time\n",
    "    * every time the code under the loop finishes running\n",
    "\n",
    "## While loop structure\n",
    "\n",
    "A while loop will never be accessed if its condition is initially false\n",
    "\n",
    "while [condition]: \\\n",
    "&nbsp;&nbsp;&nbsp;&nbsp;run until condition is False"
   ]
  },
  {
   "cell_type": "code",
   "execution_count": null,
   "metadata": {},
   "outputs": [],
   "source": [
    "x = 0\n",
    "while x != 0:\n",
    "    print(\"Never accessed\")\n",
    "# notice how nothing is printed"
   ]
  },
  {
   "cell_type": "markdown",
   "metadata": {},
   "source": [
    "## Example"
   ]
  },
  {
   "cell_type": "code",
   "execution_count": 3,
   "metadata": {},
   "outputs": [
    {
     "name": "stdout",
     "output_type": "stream",
     "text": [
      "2\n",
      "1\n",
      "0\n",
      "-1\n"
     ]
    }
   ],
   "source": [
    "x = 2\n",
    "while x >= 0:\n",
    "    print(x)\n",
    "    x -= 1\n",
    "# x hits 0, x >= 0 evaluates to True so the loop runs 1 more time, making x equal -1 in the end\n",
    "print(x)"
   ]
  },
  {
   "cell_type": "markdown",
   "metadata": {},
   "source": [
    "Let's look at what happened above:\n",
    "1. x is initialized to 2\n",
    "2. eventually, x hits 0\n",
    "3. x >= 0 evaluates to True, so the loop runs again\n",
    "4. 0 is printed, then x is decremented and becomes -1\n",
    "5. the condition of the while loop evaluates to False: -1 >= 0\n",
    "6. so, the loop doesn't run again. \n",
    "7. print statement at the end prints the final value of x, -1"
   ]
  }
 ],
 "metadata": {
  "kernelspec": {
   "display_name": "Python 3",
   "language": "python",
   "name": "python3"
  },
  "language_info": {
   "codemirror_mode": {
    "name": "ipython",
    "version": 3
   },
   "file_extension": ".py",
   "mimetype": "text/x-python",
   "name": "python",
   "nbconvert_exporter": "python",
   "pygments_lexer": "ipython3",
   "version": "3.11.4"
  }
 },
 "nbformat": 4,
 "nbformat_minor": 2
}
