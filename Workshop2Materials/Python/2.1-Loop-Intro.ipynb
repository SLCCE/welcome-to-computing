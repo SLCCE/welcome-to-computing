{
 "cells": [
  {
   "cell_type": "markdown",
   "metadata": {},
   "source": [
    "# Loops!"
   ]
  },
  {
   "cell_type": "code",
   "execution_count": 1,
   "metadata": {},
   "outputs": [
    {
     "name": "stdout",
     "output_type": "stream",
     "text": [
      "0\n",
      "10\n"
     ]
    }
   ],
   "source": [
    "val = 0\n",
    "# val starts at 0\n",
    "print(val)\n",
    "# Hi! I'm a loop. I'm useful for repeating operations\n",
    "while val < 10:\n",
    "    val += 1\n",
    "# through the loop, val becomes: 1, 2, 3, 4, 5, 6, 7, 8, 9, 10\n",
    "print(val)"
   ]
  },
  {
   "cell_type": "markdown",
   "metadata": {},
   "source": [
    "Let's take a closer look at what happens:\n",
    "1. val is initialized to 0\n",
    "2. val is repeatedly incremented while it is less than 10\n",
    "3. eventually, val is equal to 10\n",
    "4. the condition \"val < 10\" becomes \"10 < 10\" and evaluates to False\n",
    "5. thus, the loop stops when val = 10"
   ]
  },
  {
   "cell_type": "markdown",
   "metadata": {},
   "source": [
    "## Example: Sum of numbers from 1 to 100"
   ]
  },
  {
   "cell_type": "code",
   "execution_count": 5,
   "metadata": {},
   "outputs": [
    {
     "name": "stdout",
     "output_type": "stream",
     "text": [
      "5050\n"
     ]
    }
   ],
   "source": [
    "total = 0\n",
    "val = 0\n",
    "while val < 101:\n",
    "    # add 1, add 2, add 3... add 100\n",
    "    total += val\n",
    "    val += 1\n",
    "# 5050\n",
    "print(total)"
   ]
  },
  {
   "cell_type": "markdown",
   "metadata": {},
   "source": [
    "The following is equivalent -- notice where val is being changed. \n",
    "* In the first code block, val is incremented after we add it to total.\n",
    "* In the second code block, val is incremented before it's added to total.\n",
    "* As a result, our bounds check is different -- val < 100 vs. val < 101. "
   ]
  },
  {
   "cell_type": "code",
   "execution_count": 4,
   "metadata": {},
   "outputs": [
    {
     "name": "stdout",
     "output_type": "stream",
     "text": [
      "5050\n"
     ]
    }
   ],
   "source": [
    "total = 0\n",
    "val = 0\n",
    "while val < 100:\n",
    "    # add 1, add 2, add 3... add 100\n",
    "    val += 1\n",
    "    total += val\n",
    "# 5050\n",
    "print(total)"
   ]
  },
  {
   "cell_type": "markdown",
   "metadata": {},
   "source": [
    "### Same task but with a for loop\n",
    "-- more on for loops later!"
   ]
  },
  {
   "cell_type": "code",
   "execution_count": 6,
   "metadata": {},
   "outputs": [
    {
     "name": "stdout",
     "output_type": "stream",
     "text": [
      "5050\n"
     ]
    }
   ],
   "source": [
    "total = 0\n",
    "# range(1, 101) creates a 'list' of numbers from 1 to 100\n",
    "for i in range(1, 101):\n",
    "    total += i\n",
    "print(total)"
   ]
  }
 ],
 "metadata": {
  "kernelspec": {
   "display_name": "Python 3",
   "language": "python",
   "name": "python3"
  },
  "language_info": {
   "codemirror_mode": {
    "name": "ipython",
    "version": 3
   },
   "file_extension": ".py",
   "mimetype": "text/x-python",
   "name": "python",
   "nbconvert_exporter": "python",
   "pygments_lexer": "ipython3",
   "version": "3.11.4"
  }
 },
 "nbformat": 4,
 "nbformat_minor": 2
}
